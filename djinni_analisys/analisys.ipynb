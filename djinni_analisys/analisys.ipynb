{
 "cells": [
  {
   "cell_type": "code",
   "execution_count": 1,
   "id": "initial_id",
   "metadata": {
    "collapsed": true,
    "ExecuteTime": {
     "end_time": "2024-03-07T18:51:01.427411200Z",
     "start_time": "2024-03-07T18:51:00.123708500Z"
    }
   },
   "outputs": [],
   "source": [
    "import pandas as pd\n",
    "import matplotlib.pyplot as plt\n",
    "import re"
   ]
  },
  {
   "cell_type": "code",
   "outputs": [],
   "source": [
    "text = \"\"\"\n",
    "Django framework to join our team For a short-term project (3 months). \n",
    "Minimum of 5 years of experience in Python development with a focus on Django framework.\n",
    "DuckMa has been in the business of creating innovative 5 digital solutions for visionary entrepreneurs for more than 10 years.\n",
    "5+ years of commercial experience with Python 3.3+ years of senior-level software development experience\n",
    "\"\"\"\n",
    "\n",
    "# Define the regular expression pattern\n",
    "pattern = r'\\b(\\d+(\\.\\d+)?\\+?)\\s*(years?)(\\sof\\sexperience)?'\n",
    "\n",
    "# Find all matches in the text\n",
    "matches = re.findall(pattern, text)\n",
    "\n",
    "# Extract only the first match for each\n",
    "years_of_experience = [match[0] for match in matches]\n",
    "\n",
    "print(years_of_experience)"
   ],
   "metadata": {
    "collapsed": false
   },
   "id": "9febf017771e1d51"
  },
  {
   "cell_type": "code",
   "outputs": [],
   "source": [
    "import pandas as pd\n",
    "\n",
    "def process_data(file_path):\n",
    "    # Read data into a DataFrame\n",
    "    df = pd.read_csv(file_path)\n",
    "    \n",
    "    # Display the first few rows of the DataFrame\n",
    "    print(\"First few rows of the DataFrame:\")\n",
    "    print(df.head())\n",
    "    \n",
    "    # Summary statistics\n",
    "    print(\"\\nSummary statistics:\")\n",
    "    print(df.describe())\n",
    "    \n",
    "    # Count missing values\n",
    "    print(\"\\nMissing values:\")\n",
    "    print(df.isnull().sum())\n",
    "    \n",
    "    # Perform some data manipulation or analysis\n",
    "    # For example, calculate the mean of a column\n",
    "    mean_value = df['column_name'].mean()\n",
    "    print(\"\\nMean value of column 'column_name':\", mean_value)\n",
    "    \n",
    "    # Perform additional operations as needed\n",
    "    \n",
    "    # Return the processed DataFrame or other results if necessary\n",
    "    return df\n",
    "\n",
    "if __name__ == \"__main__\":\n",
    "    # Specify the path to the data file\n",
    "    file_path = 'data.csv'\n",
    "    \n",
    "    # Call the function to process the data\n",
    "    processed_data = process_data(file_path)\n"
   ],
   "metadata": {
    "collapsed": false
   },
   "id": "595ea87031c47c0"
  },
  {
   "cell_type": "code",
   "outputs": [],
   "source": [
    "import matplotlib.pyplot as plt\n",
    "\n",
    "def generate_plot(x_data, y_data):\n",
    "    # Plot the data\n",
    "    plt.plot(x_data, y_data)\n",
    "    \n",
    "    # Add labels and title\n",
    "    plt.xlabel('X-axis Label')\n",
    "    plt.ylabel('Y-axis Label')\n",
    "    plt.title('Title of the Plot')\n",
    "    \n",
    "    # Show the plot\n",
    "    plt.show()\n",
    "\n",
    "if __name__ == \"__main__\":\n",
    "    # Example data\n",
    "    x_data = [1, 2, 3, 4, 5]\n",
    "    y_data = [2, 4, 6, 8, 10]\n",
    "    \n",
    "    # Call the function to generate the plot\n",
    "    generate_plot(x_data, y_data)\n"
   ],
   "metadata": {
    "collapsed": false
   },
   "id": "5a5b95e68cbe0c3e"
  },
  {
   "cell_type": "code",
   "outputs": [
    {
     "data": {
      "text/plain": "                                      title         company  \\\n0            Senior Python Backend Engineer            ZERO   \n1                 Python Developer (Zagreb)     Avalon soft   \n2                  IoT developer  (LoRaWAN)     Quintagroup   \n3  (CTO) - AI/ML Startup (Cat Recruiter AI)  Big Orange Cat   \n4            Python Developer Middle/Senior     TheWhyKingz   \n\n                                         description       posted_date  views  \\\n0  Today we are looking for a talented <b>Senior ...  09:38 26.02.2024    334   \n1  About the project:<br>A set of services for do...  09:14 26.02.2024     30   \n2  Quintagroup is looking for LoRaWAN engineer  t...  16:36 25.02.2024    120   \n3  We're a self-funded Ukrainian Startup/product ...  04:26 24.02.2024    290   \n4  Привіт, друзі! 🖐<br><br>У нас стабільно і ми п...  15:38 23.02.2024    188   \n\n   applications  \n0            95  \n1            11  \n2            12  \n3            38  \n4            90  ",
      "text/html": "<div>\n<style scoped>\n    .dataframe tbody tr th:only-of-type {\n        vertical-align: middle;\n    }\n\n    .dataframe tbody tr th {\n        vertical-align: top;\n    }\n\n    .dataframe thead th {\n        text-align: right;\n    }\n</style>\n<table border=\"1\" class=\"dataframe\">\n  <thead>\n    <tr style=\"text-align: right;\">\n      <th></th>\n      <th>title</th>\n      <th>company</th>\n      <th>description</th>\n      <th>posted_date</th>\n      <th>views</th>\n      <th>applications</th>\n    </tr>\n  </thead>\n  <tbody>\n    <tr>\n      <th>0</th>\n      <td>Senior Python Backend Engineer</td>\n      <td>ZERO</td>\n      <td>Today we are looking for a talented &lt;b&gt;Senior ...</td>\n      <td>09:38 26.02.2024</td>\n      <td>334</td>\n      <td>95</td>\n    </tr>\n    <tr>\n      <th>1</th>\n      <td>Python Developer (Zagreb)</td>\n      <td>Avalon soft</td>\n      <td>About the project:&lt;br&gt;A set of services for do...</td>\n      <td>09:14 26.02.2024</td>\n      <td>30</td>\n      <td>11</td>\n    </tr>\n    <tr>\n      <th>2</th>\n      <td>IoT developer  (LoRaWAN)</td>\n      <td>Quintagroup</td>\n      <td>Quintagroup is looking for LoRaWAN engineer  t...</td>\n      <td>16:36 25.02.2024</td>\n      <td>120</td>\n      <td>12</td>\n    </tr>\n    <tr>\n      <th>3</th>\n      <td>(CTO) - AI/ML Startup (Cat Recruiter AI)</td>\n      <td>Big Orange Cat</td>\n      <td>We're a self-funded Ukrainian Startup/product ...</td>\n      <td>04:26 24.02.2024</td>\n      <td>290</td>\n      <td>38</td>\n    </tr>\n    <tr>\n      <th>4</th>\n      <td>Python Developer Middle/Senior</td>\n      <td>TheWhyKingz</td>\n      <td>Привіт, друзі! 🖐&lt;br&gt;&lt;br&gt;У нас стабільно і ми п...</td>\n      <td>15:38 23.02.2024</td>\n      <td>188</td>\n      <td>90</td>\n    </tr>\n  </tbody>\n</table>\n</div>"
     },
     "execution_count": 2,
     "metadata": {},
     "output_type": "execute_result"
    }
   ],
   "source": [
    "df = pd.read_csv('djinni_data.csv')\n",
    "df.head()"
   ],
   "metadata": {
    "collapsed": false,
    "ExecuteTime": {
     "end_time": "2024-03-07T18:51:22.947170300Z",
     "start_time": "2024-03-07T18:51:22.886607900Z"
    }
   },
   "id": "15acad0eb313eaca",
   "execution_count": 2
  },
  {
   "cell_type": "code",
   "outputs": [
    {
     "data": {
      "text/plain": "\"Today we are looking for a talented <b>Senior Python Backend Engineer</b> to join our team at ZERO for building AI-powered automation tools for time-consuming administrative tasks. <br><br>This role is a unique opportunity to work with high-load document processing tasks and implement AI services into a real business process of large companies. The products you will develop include NLP applications used by our diverse portfolio of customers in the Finance, Legal and Insurance industries. You will enjoy a complete lifecycle from data preparation/analysis to production code deployments<br><br><b>Responsibilities:</b><br><br>Design, build, and/or deliver microservices for document processing and components that solve real-world business problems, while working in collaboration with the Product, front-end developers and Data Science team;\\u202f <br>Leverage continuous integration and continuous deployment best practices, including test automation and monitoring <br>Integration of data storage solutions  <br><br><b>Qualifications:\\u202f</b> <br><br>Bachelor’s or Master's in computer science, electrical engineering, mathematics, or a similar field. PhD is a plus;\\u202f <br>Proven programming experience in Python3 using efficient algorithms and software design patterns;\\u202f\\u202f <br>Experience with Python3 frameworks (e.g. Django, Flask, FastAPI) <br>Knowledge of object-relational mapping (ORM) <br>Working experience with databases (e.g. Postgres) and data storage (S3)\\u202f <br>Experience with CI/CD tools (Jenkins, Gitlab etc)\\u202f <br>Knowledge of user authentication and authorization between multiple systems, servers, and environments <br>Experience with Linux, Docker and Container management tools (Kubernetes/Openshift) <br><br><b>Nice to have:\\u202f</b><br><br>Experience developing and deploying solutions in a public cloud such as AWS, Azure, or Google Cloud Platform;\\u202f <br>Knowledge of JavaScript and the AngularJS framework is a plus <br>Experience in .NET/C# or C++ is a plus;\""
     },
     "execution_count": 3,
     "metadata": {},
     "output_type": "execute_result"
    }
   ],
   "source": [
    "df[\"description\"][0]\n"
   ],
   "metadata": {
    "collapsed": false,
    "ExecuteTime": {
     "end_time": "2024-03-07T18:51:33.787649200Z",
     "start_time": "2024-03-07T18:51:33.774500900Z"
    }
   },
   "id": "a810ed8d6f662067",
   "execution_count": 3
  },
  {
   "cell_type": "code",
   "outputs": [],
   "source": [],
   "metadata": {
    "collapsed": false
   },
   "id": "8a91ed098d040430"
  }
 ],
 "metadata": {
  "kernelspec": {
   "display_name": "Python 3",
   "language": "python",
   "name": "python3"
  },
  "language_info": {
   "codemirror_mode": {
    "name": "ipython",
    "version": 2
   },
   "file_extension": ".py",
   "mimetype": "text/x-python",
   "name": "python",
   "nbconvert_exporter": "python",
   "pygments_lexer": "ipython2",
   "version": "2.7.6"
  }
 },
 "nbformat": 4,
 "nbformat_minor": 5
}
